{
  "nbformat": 4,
  "nbformat_minor": 0,
  "metadata": {
    "colab": {
      "provenance": [],
      "authorship_tag": "ABX9TyNc4FUkBQENgrY6KlOv5L2c",
      "include_colab_link": true
    },
    "kernelspec": {
      "name": "python3",
      "display_name": "Python 3"
    },
    "language_info": {
      "name": "python"
    }
  },
  "cells": [
    {
      "cell_type": "markdown",
      "metadata": {
        "id": "view-in-github",
        "colab_type": "text"
      },
      "source": [
        "<a href=\"https://colab.research.google.com/github/VihaShahh/Stock-Market-Prediction-And-Forecasting-Using-Stacked-LSTM/blob/main/stock.ipynb\" target=\"_parent\"><img src=\"https://colab.research.google.com/assets/colab-badge.svg\" alt=\"Open In Colab\"/></a>"
      ]
    },
    {
      "cell_type": "markdown",
      "source": [
        "# **Stock-Market-Prediction-And-Forecasting-Using-Stacked-LSTM**"
      ],
      "metadata": {
        "id": "xSvxxS5Fiskj"
      }
    },
    {
      "cell_type": "code",
      "execution_count": null,
      "metadata": {
        "id": "QfHX1B5P3_rO"
      },
      "outputs": [],
      "source": [
        "import numpy as np\n",
        "import pandas as pd\n",
        "import datetime\n",
        "import math\n",
        "import matplotlib.pyplot as plt\n",
        "import seaborn as sns\n",
        "from sklearn.preprocessing import MinMaxScaler\n",
        "from tensorflow.keras.models import Sequential\n",
        "from tensorflow.keras.layers import Dense , LSTM\n",
        "from sklearn.metrics import mean_squared_error"
      ]
    },
    {
      "cell_type": "code",
      "source": [
        "Dataset_link='/content/Stock_price.csv'"
      ],
      "metadata": {
        "id": "PuFi2SRqaDPp"
      },
      "execution_count": null,
      "outputs": []
    },
    {
      "cell_type": "code",
      "source": [
        "df= pd.read_csv(Dataset_link, parse_dates=True,)\n",
        "df.reset_index()\n",
        "df.head(10)\n"
      ],
      "metadata": {
        "colab": {
          "base_uri": "https://localhost:8080/",
          "height": 363
        },
        "id": "ARIwBBJ2ankH",
        "outputId": "8441c234-3dc0-4948-9f78-f29b79dc35c7"
      },
      "execution_count": null,
      "outputs": [
        {
          "output_type": "execute_result",
          "data": {
            "text/plain": [
              "         Date    Open    High     Low    Last   Close  Total_Trade_Quantity  \\\n",
              "0  28-09-2018  234.05  235.95  230.20  233.50  233.75               3069914   \n",
              "1  27-09-2018  234.55  236.80  231.10  233.80  233.25               5082859   \n",
              "2  26-09-2018  240.00  240.00  232.50  235.00  234.25               2240909   \n",
              "3  25-09-2018  233.30  236.75  232.00  236.25  236.10               2349368   \n",
              "4  24-09-2018  233.55  239.20  230.75  234.00  233.30               3423509   \n",
              "5  21-09-2018  235.00  237.00  227.95  233.75  234.60               5395319   \n",
              "6  19-09-2018  235.95  237.20  233.45  234.60  234.90               1362058   \n",
              "7  18-09-2018  237.90  239.25  233.50  235.50  235.05               2614794   \n",
              "8  17-09-2018  233.15  238.00  230.25  236.40  236.60               3170894   \n",
              "9  14-09-2018  223.45  236.70  223.30  234.00  233.95               6377909   \n",
              "\n",
              "   turnover(Lacs)  \n",
              "0         7162.35  \n",
              "1        11859.95  \n",
              "2         5248.60  \n",
              "3         5503.90  \n",
              "4         7999.55  \n",
              "5        12589.59  \n",
              "6         3202.78  \n",
              "7         6163.70  \n",
              "8         7445.41  \n",
              "9        14784.50  "
            ],
            "text/html": [
              "\n",
              "  <div id=\"df-9b2a5886-e624-4418-bf49-628bbf1b085b\" class=\"colab-df-container\">\n",
              "    <div>\n",
              "<style scoped>\n",
              "    .dataframe tbody tr th:only-of-type {\n",
              "        vertical-align: middle;\n",
              "    }\n",
              "\n",
              "    .dataframe tbody tr th {\n",
              "        vertical-align: top;\n",
              "    }\n",
              "\n",
              "    .dataframe thead th {\n",
              "        text-align: right;\n",
              "    }\n",
              "</style>\n",
              "<table border=\"1\" class=\"dataframe\">\n",
              "  <thead>\n",
              "    <tr style=\"text-align: right;\">\n",
              "      <th></th>\n",
              "      <th>Date</th>\n",
              "      <th>Open</th>\n",
              "      <th>High</th>\n",
              "      <th>Low</th>\n",
              "      <th>Last</th>\n",
              "      <th>Close</th>\n",
              "      <th>Total_Trade_Quantity</th>\n",
              "      <th>turnover(Lacs)</th>\n",
              "    </tr>\n",
              "  </thead>\n",
              "  <tbody>\n",
              "    <tr>\n",
              "      <th>0</th>\n",
              "      <td>28-09-2018</td>\n",
              "      <td>234.05</td>\n",
              "      <td>235.95</td>\n",
              "      <td>230.20</td>\n",
              "      <td>233.50</td>\n",
              "      <td>233.75</td>\n",
              "      <td>3069914</td>\n",
              "      <td>7162.35</td>\n",
              "    </tr>\n",
              "    <tr>\n",
              "      <th>1</th>\n",
              "      <td>27-09-2018</td>\n",
              "      <td>234.55</td>\n",
              "      <td>236.80</td>\n",
              "      <td>231.10</td>\n",
              "      <td>233.80</td>\n",
              "      <td>233.25</td>\n",
              "      <td>5082859</td>\n",
              "      <td>11859.95</td>\n",
              "    </tr>\n",
              "    <tr>\n",
              "      <th>2</th>\n",
              "      <td>26-09-2018</td>\n",
              "      <td>240.00</td>\n",
              "      <td>240.00</td>\n",
              "      <td>232.50</td>\n",
              "      <td>235.00</td>\n",
              "      <td>234.25</td>\n",
              "      <td>2240909</td>\n",
              "      <td>5248.60</td>\n",
              "    </tr>\n",
              "    <tr>\n",
              "      <th>3</th>\n",
              "      <td>25-09-2018</td>\n",
              "      <td>233.30</td>\n",
              "      <td>236.75</td>\n",
              "      <td>232.00</td>\n",
              "      <td>236.25</td>\n",
              "      <td>236.10</td>\n",
              "      <td>2349368</td>\n",
              "      <td>5503.90</td>\n",
              "    </tr>\n",
              "    <tr>\n",
              "      <th>4</th>\n",
              "      <td>24-09-2018</td>\n",
              "      <td>233.55</td>\n",
              "      <td>239.20</td>\n",
              "      <td>230.75</td>\n",
              "      <td>234.00</td>\n",
              "      <td>233.30</td>\n",
              "      <td>3423509</td>\n",
              "      <td>7999.55</td>\n",
              "    </tr>\n",
              "    <tr>\n",
              "      <th>5</th>\n",
              "      <td>21-09-2018</td>\n",
              "      <td>235.00</td>\n",
              "      <td>237.00</td>\n",
              "      <td>227.95</td>\n",
              "      <td>233.75</td>\n",
              "      <td>234.60</td>\n",
              "      <td>5395319</td>\n",
              "      <td>12589.59</td>\n",
              "    </tr>\n",
              "    <tr>\n",
              "      <th>6</th>\n",
              "      <td>19-09-2018</td>\n",
              "      <td>235.95</td>\n",
              "      <td>237.20</td>\n",
              "      <td>233.45</td>\n",
              "      <td>234.60</td>\n",
              "      <td>234.90</td>\n",
              "      <td>1362058</td>\n",
              "      <td>3202.78</td>\n",
              "    </tr>\n",
              "    <tr>\n",
              "      <th>7</th>\n",
              "      <td>18-09-2018</td>\n",
              "      <td>237.90</td>\n",
              "      <td>239.25</td>\n",
              "      <td>233.50</td>\n",
              "      <td>235.50</td>\n",
              "      <td>235.05</td>\n",
              "      <td>2614794</td>\n",
              "      <td>6163.70</td>\n",
              "    </tr>\n",
              "    <tr>\n",
              "      <th>8</th>\n",
              "      <td>17-09-2018</td>\n",
              "      <td>233.15</td>\n",
              "      <td>238.00</td>\n",
              "      <td>230.25</td>\n",
              "      <td>236.40</td>\n",
              "      <td>236.60</td>\n",
              "      <td>3170894</td>\n",
              "      <td>7445.41</td>\n",
              "    </tr>\n",
              "    <tr>\n",
              "      <th>9</th>\n",
              "      <td>14-09-2018</td>\n",
              "      <td>223.45</td>\n",
              "      <td>236.70</td>\n",
              "      <td>223.30</td>\n",
              "      <td>234.00</td>\n",
              "      <td>233.95</td>\n",
              "      <td>6377909</td>\n",
              "      <td>14784.50</td>\n",
              "    </tr>\n",
              "  </tbody>\n",
              "</table>\n",
              "</div>\n",
              "    <div class=\"colab-df-buttons\">\n",
              "\n",
              "  <div class=\"colab-df-container\">\n",
              "    <button class=\"colab-df-convert\" onclick=\"convertToInteractive('df-9b2a5886-e624-4418-bf49-628bbf1b085b')\"\n",
              "            title=\"Convert this dataframe to an interactive table.\"\n",
              "            style=\"display:none;\">\n",
              "\n",
              "  <svg xmlns=\"http://www.w3.org/2000/svg\" height=\"24px\" viewBox=\"0 -960 960 960\">\n",
              "    <path d=\"M120-120v-720h720v720H120Zm60-500h600v-160H180v160Zm220 220h160v-160H400v160Zm0 220h160v-160H400v160ZM180-400h160v-160H180v160Zm440 0h160v-160H620v160ZM180-180h160v-160H180v160Zm440 0h160v-160H620v160Z\"/>\n",
              "  </svg>\n",
              "    </button>\n",
              "\n",
              "  <style>\n",
              "    .colab-df-container {\n",
              "      display:flex;\n",
              "      gap: 12px;\n",
              "    }\n",
              "\n",
              "    .colab-df-convert {\n",
              "      background-color: #E8F0FE;\n",
              "      border: none;\n",
              "      border-radius: 50%;\n",
              "      cursor: pointer;\n",
              "      display: none;\n",
              "      fill: #1967D2;\n",
              "      height: 32px;\n",
              "      padding: 0 0 0 0;\n",
              "      width: 32px;\n",
              "    }\n",
              "\n",
              "    .colab-df-convert:hover {\n",
              "      background-color: #E2EBFA;\n",
              "      box-shadow: 0px 1px 2px rgba(60, 64, 67, 0.3), 0px 1px 3px 1px rgba(60, 64, 67, 0.15);\n",
              "      fill: #174EA6;\n",
              "    }\n",
              "\n",
              "    .colab-df-buttons div {\n",
              "      margin-bottom: 4px;\n",
              "    }\n",
              "\n",
              "    [theme=dark] .colab-df-convert {\n",
              "      background-color: #3B4455;\n",
              "      fill: #D2E3FC;\n",
              "    }\n",
              "\n",
              "    [theme=dark] .colab-df-convert:hover {\n",
              "      background-color: #434B5C;\n",
              "      box-shadow: 0px 1px 3px 1px rgba(0, 0, 0, 0.15);\n",
              "      filter: drop-shadow(0px 1px 2px rgba(0, 0, 0, 0.3));\n",
              "      fill: #FFFFFF;\n",
              "    }\n",
              "  </style>\n",
              "\n",
              "    <script>\n",
              "      const buttonEl =\n",
              "        document.querySelector('#df-9b2a5886-e624-4418-bf49-628bbf1b085b button.colab-df-convert');\n",
              "      buttonEl.style.display =\n",
              "        google.colab.kernel.accessAllowed ? 'block' : 'none';\n",
              "\n",
              "      async function convertToInteractive(key) {\n",
              "        const element = document.querySelector('#df-9b2a5886-e624-4418-bf49-628bbf1b085b');\n",
              "        const dataTable =\n",
              "          await google.colab.kernel.invokeFunction('convertToInteractive',\n",
              "                                                    [key], {});\n",
              "        if (!dataTable) return;\n",
              "\n",
              "        const docLinkHtml = 'Like what you see? Visit the ' +\n",
              "          '<a target=\"_blank\" href=https://colab.research.google.com/notebooks/data_table.ipynb>data table notebook</a>'\n",
              "          + ' to learn more about interactive tables.';\n",
              "        element.innerHTML = '';\n",
              "        dataTable['output_type'] = 'display_data';\n",
              "        await google.colab.output.renderOutput(dataTable, element);\n",
              "        const docLink = document.createElement('div');\n",
              "        docLink.innerHTML = docLinkHtml;\n",
              "        element.appendChild(docLink);\n",
              "      }\n",
              "    </script>\n",
              "  </div>\n",
              "\n",
              "\n",
              "<div id=\"df-d54ee192-8f54-43ef-acf3-4952e1845776\">\n",
              "  <button class=\"colab-df-quickchart\" onclick=\"quickchart('df-d54ee192-8f54-43ef-acf3-4952e1845776')\"\n",
              "            title=\"Suggest charts.\"\n",
              "            style=\"display:none;\">\n",
              "\n",
              "<svg xmlns=\"http://www.w3.org/2000/svg\" height=\"24px\"viewBox=\"0 0 24 24\"\n",
              "     width=\"24px\">\n",
              "    <g>\n",
              "        <path d=\"M19 3H5c-1.1 0-2 .9-2 2v14c0 1.1.9 2 2 2h14c1.1 0 2-.9 2-2V5c0-1.1-.9-2-2-2zM9 17H7v-7h2v7zm4 0h-2V7h2v10zm4 0h-2v-4h2v4z\"/>\n",
              "    </g>\n",
              "</svg>\n",
              "  </button>\n",
              "\n",
              "<style>\n",
              "  .colab-df-quickchart {\n",
              "      --bg-color: #E8F0FE;\n",
              "      --fill-color: #1967D2;\n",
              "      --hover-bg-color: #E2EBFA;\n",
              "      --hover-fill-color: #174EA6;\n",
              "      --disabled-fill-color: #AAA;\n",
              "      --disabled-bg-color: #DDD;\n",
              "  }\n",
              "\n",
              "  [theme=dark] .colab-df-quickchart {\n",
              "      --bg-color: #3B4455;\n",
              "      --fill-color: #D2E3FC;\n",
              "      --hover-bg-color: #434B5C;\n",
              "      --hover-fill-color: #FFFFFF;\n",
              "      --disabled-bg-color: #3B4455;\n",
              "      --disabled-fill-color: #666;\n",
              "  }\n",
              "\n",
              "  .colab-df-quickchart {\n",
              "    background-color: var(--bg-color);\n",
              "    border: none;\n",
              "    border-radius: 50%;\n",
              "    cursor: pointer;\n",
              "    display: none;\n",
              "    fill: var(--fill-color);\n",
              "    height: 32px;\n",
              "    padding: 0;\n",
              "    width: 32px;\n",
              "  }\n",
              "\n",
              "  .colab-df-quickchart:hover {\n",
              "    background-color: var(--hover-bg-color);\n",
              "    box-shadow: 0 1px 2px rgba(60, 64, 67, 0.3), 0 1px 3px 1px rgba(60, 64, 67, 0.15);\n",
              "    fill: var(--button-hover-fill-color);\n",
              "  }\n",
              "\n",
              "  .colab-df-quickchart-complete:disabled,\n",
              "  .colab-df-quickchart-complete:disabled:hover {\n",
              "    background-color: var(--disabled-bg-color);\n",
              "    fill: var(--disabled-fill-color);\n",
              "    box-shadow: none;\n",
              "  }\n",
              "\n",
              "  .colab-df-spinner {\n",
              "    border: 2px solid var(--fill-color);\n",
              "    border-color: transparent;\n",
              "    border-bottom-color: var(--fill-color);\n",
              "    animation:\n",
              "      spin 1s steps(1) infinite;\n",
              "  }\n",
              "\n",
              "  @keyframes spin {\n",
              "    0% {\n",
              "      border-color: transparent;\n",
              "      border-bottom-color: var(--fill-color);\n",
              "      border-left-color: var(--fill-color);\n",
              "    }\n",
              "    20% {\n",
              "      border-color: transparent;\n",
              "      border-left-color: var(--fill-color);\n",
              "      border-top-color: var(--fill-color);\n",
              "    }\n",
              "    30% {\n",
              "      border-color: transparent;\n",
              "      border-left-color: var(--fill-color);\n",
              "      border-top-color: var(--fill-color);\n",
              "      border-right-color: var(--fill-color);\n",
              "    }\n",
              "    40% {\n",
              "      border-color: transparent;\n",
              "      border-right-color: var(--fill-color);\n",
              "      border-top-color: var(--fill-color);\n",
              "    }\n",
              "    60% {\n",
              "      border-color: transparent;\n",
              "      border-right-color: var(--fill-color);\n",
              "    }\n",
              "    80% {\n",
              "      border-color: transparent;\n",
              "      border-right-color: var(--fill-color);\n",
              "      border-bottom-color: var(--fill-color);\n",
              "    }\n",
              "    90% {\n",
              "      border-color: transparent;\n",
              "      border-bottom-color: var(--fill-color);\n",
              "    }\n",
              "  }\n",
              "</style>\n",
              "\n",
              "  <script>\n",
              "    async function quickchart(key) {\n",
              "      const quickchartButtonEl =\n",
              "        document.querySelector('#' + key + ' button');\n",
              "      quickchartButtonEl.disabled = true;  // To prevent multiple clicks.\n",
              "      quickchartButtonEl.classList.add('colab-df-spinner');\n",
              "      try {\n",
              "        const charts = await google.colab.kernel.invokeFunction(\n",
              "            'suggestCharts', [key], {});\n",
              "      } catch (error) {\n",
              "        console.error('Error during call to suggestCharts:', error);\n",
              "      }\n",
              "      quickchartButtonEl.classList.remove('colab-df-spinner');\n",
              "      quickchartButtonEl.classList.add('colab-df-quickchart-complete');\n",
              "    }\n",
              "    (() => {\n",
              "      let quickchartButtonEl =\n",
              "        document.querySelector('#df-d54ee192-8f54-43ef-acf3-4952e1845776 button');\n",
              "      quickchartButtonEl.style.display =\n",
              "        google.colab.kernel.accessAllowed ? 'block' : 'none';\n",
              "    })();\n",
              "  </script>\n",
              "</div>\n",
              "    </div>\n",
              "  </div>\n"
            ]
          },
          "metadata": {},
          "execution_count": 3
        }
      ]
    },
    {
      "cell_type": "code",
      "source": [
        "df.sample(10)"
      ],
      "metadata": {
        "colab": {
          "base_uri": "https://localhost:8080/",
          "height": 363
        },
        "id": "S1nPGCHpa3K2",
        "outputId": "74770e49-3fb2-4c51-8e18-31161a6ae5af"
      },
      "execution_count": null,
      "outputs": [
        {
          "output_type": "execute_result",
          "data": {
            "text/plain": [
              "            Date    Open    High     Low    Last   Close  \\\n",
              "250   26-09-2017  196.00  206.45  195.30  204.95  204.65   \n",
              "1893  09-02-2011   93.00   93.00   87.00   88.45   87.85   \n",
              "376   24-03-2017  152.90  153.15  150.50  150.85  151.15   \n",
              "133   16-03-2018  280.80  282.70  271.05  272.55  272.40   \n",
              "239   12-10-2017  211.00  212.90  208.00  212.00  212.00   \n",
              "1207  08-11-2013  160.20  163.00  157.80  160.20  160.10   \n",
              "1825  20-05-2011   96.20   97.90   96.15   97.10   97.30   \n",
              "1128  04-03-2014  136.80  141.15  135.90  141.05  140.40   \n",
              "838   14-05-2015  145.05  146.90  143.65  146.45  146.30   \n",
              "1305  18-06-2013  141.90  143.95  141.00  142.90  142.90   \n",
              "\n",
              "      Total_Trade_Quantity  turnover(Lacs)  \n",
              "250                5546594        11185.50  \n",
              "1893                680652          613.29  \n",
              "376                3485991         5286.28  \n",
              "133                2762357         7633.86  \n",
              "239                3902627         8224.13  \n",
              "1207               1175152         1883.24  \n",
              "1825                391739          381.52  \n",
              "1128               2995506         4182.18  \n",
              "838                1373721         2005.47  \n",
              "1305               1753310         2504.07  "
            ],
            "text/html": [
              "\n",
              "  <div id=\"df-22e8af9d-6cb1-45ec-8a4a-b4ca1a93760e\" class=\"colab-df-container\">\n",
              "    <div>\n",
              "<style scoped>\n",
              "    .dataframe tbody tr th:only-of-type {\n",
              "        vertical-align: middle;\n",
              "    }\n",
              "\n",
              "    .dataframe tbody tr th {\n",
              "        vertical-align: top;\n",
              "    }\n",
              "\n",
              "    .dataframe thead th {\n",
              "        text-align: right;\n",
              "    }\n",
              "</style>\n",
              "<table border=\"1\" class=\"dataframe\">\n",
              "  <thead>\n",
              "    <tr style=\"text-align: right;\">\n",
              "      <th></th>\n",
              "      <th>Date</th>\n",
              "      <th>Open</th>\n",
              "      <th>High</th>\n",
              "      <th>Low</th>\n",
              "      <th>Last</th>\n",
              "      <th>Close</th>\n",
              "      <th>Total_Trade_Quantity</th>\n",
              "      <th>turnover(Lacs)</th>\n",
              "    </tr>\n",
              "  </thead>\n",
              "  <tbody>\n",
              "    <tr>\n",
              "      <th>250</th>\n",
              "      <td>26-09-2017</td>\n",
              "      <td>196.00</td>\n",
              "      <td>206.45</td>\n",
              "      <td>195.30</td>\n",
              "      <td>204.95</td>\n",
              "      <td>204.65</td>\n",
              "      <td>5546594</td>\n",
              "      <td>11185.50</td>\n",
              "    </tr>\n",
              "    <tr>\n",
              "      <th>1893</th>\n",
              "      <td>09-02-2011</td>\n",
              "      <td>93.00</td>\n",
              "      <td>93.00</td>\n",
              "      <td>87.00</td>\n",
              "      <td>88.45</td>\n",
              "      <td>87.85</td>\n",
              "      <td>680652</td>\n",
              "      <td>613.29</td>\n",
              "    </tr>\n",
              "    <tr>\n",
              "      <th>376</th>\n",
              "      <td>24-03-2017</td>\n",
              "      <td>152.90</td>\n",
              "      <td>153.15</td>\n",
              "      <td>150.50</td>\n",
              "      <td>150.85</td>\n",
              "      <td>151.15</td>\n",
              "      <td>3485991</td>\n",
              "      <td>5286.28</td>\n",
              "    </tr>\n",
              "    <tr>\n",
              "      <th>133</th>\n",
              "      <td>16-03-2018</td>\n",
              "      <td>280.80</td>\n",
              "      <td>282.70</td>\n",
              "      <td>271.05</td>\n",
              "      <td>272.55</td>\n",
              "      <td>272.40</td>\n",
              "      <td>2762357</td>\n",
              "      <td>7633.86</td>\n",
              "    </tr>\n",
              "    <tr>\n",
              "      <th>239</th>\n",
              "      <td>12-10-2017</td>\n",
              "      <td>211.00</td>\n",
              "      <td>212.90</td>\n",
              "      <td>208.00</td>\n",
              "      <td>212.00</td>\n",
              "      <td>212.00</td>\n",
              "      <td>3902627</td>\n",
              "      <td>8224.13</td>\n",
              "    </tr>\n",
              "    <tr>\n",
              "      <th>1207</th>\n",
              "      <td>08-11-2013</td>\n",
              "      <td>160.20</td>\n",
              "      <td>163.00</td>\n",
              "      <td>157.80</td>\n",
              "      <td>160.20</td>\n",
              "      <td>160.10</td>\n",
              "      <td>1175152</td>\n",
              "      <td>1883.24</td>\n",
              "    </tr>\n",
              "    <tr>\n",
              "      <th>1825</th>\n",
              "      <td>20-05-2011</td>\n",
              "      <td>96.20</td>\n",
              "      <td>97.90</td>\n",
              "      <td>96.15</td>\n",
              "      <td>97.10</td>\n",
              "      <td>97.30</td>\n",
              "      <td>391739</td>\n",
              "      <td>381.52</td>\n",
              "    </tr>\n",
              "    <tr>\n",
              "      <th>1128</th>\n",
              "      <td>04-03-2014</td>\n",
              "      <td>136.80</td>\n",
              "      <td>141.15</td>\n",
              "      <td>135.90</td>\n",
              "      <td>141.05</td>\n",
              "      <td>140.40</td>\n",
              "      <td>2995506</td>\n",
              "      <td>4182.18</td>\n",
              "    </tr>\n",
              "    <tr>\n",
              "      <th>838</th>\n",
              "      <td>14-05-2015</td>\n",
              "      <td>145.05</td>\n",
              "      <td>146.90</td>\n",
              "      <td>143.65</td>\n",
              "      <td>146.45</td>\n",
              "      <td>146.30</td>\n",
              "      <td>1373721</td>\n",
              "      <td>2005.47</td>\n",
              "    </tr>\n",
              "    <tr>\n",
              "      <th>1305</th>\n",
              "      <td>18-06-2013</td>\n",
              "      <td>141.90</td>\n",
              "      <td>143.95</td>\n",
              "      <td>141.00</td>\n",
              "      <td>142.90</td>\n",
              "      <td>142.90</td>\n",
              "      <td>1753310</td>\n",
              "      <td>2504.07</td>\n",
              "    </tr>\n",
              "  </tbody>\n",
              "</table>\n",
              "</div>\n",
              "    <div class=\"colab-df-buttons\">\n",
              "\n",
              "  <div class=\"colab-df-container\">\n",
              "    <button class=\"colab-df-convert\" onclick=\"convertToInteractive('df-22e8af9d-6cb1-45ec-8a4a-b4ca1a93760e')\"\n",
              "            title=\"Convert this dataframe to an interactive table.\"\n",
              "            style=\"display:none;\">\n",
              "\n",
              "  <svg xmlns=\"http://www.w3.org/2000/svg\" height=\"24px\" viewBox=\"0 -960 960 960\">\n",
              "    <path d=\"M120-120v-720h720v720H120Zm60-500h600v-160H180v160Zm220 220h160v-160H400v160Zm0 220h160v-160H400v160ZM180-400h160v-160H180v160Zm440 0h160v-160H620v160ZM180-180h160v-160H180v160Zm440 0h160v-160H620v160Z\"/>\n",
              "  </svg>\n",
              "    </button>\n",
              "\n",
              "  <style>\n",
              "    .colab-df-container {\n",
              "      display:flex;\n",
              "      gap: 12px;\n",
              "    }\n",
              "\n",
              "    .colab-df-convert {\n",
              "      background-color: #E8F0FE;\n",
              "      border: none;\n",
              "      border-radius: 50%;\n",
              "      cursor: pointer;\n",
              "      display: none;\n",
              "      fill: #1967D2;\n",
              "      height: 32px;\n",
              "      padding: 0 0 0 0;\n",
              "      width: 32px;\n",
              "    }\n",
              "\n",
              "    .colab-df-convert:hover {\n",
              "      background-color: #E2EBFA;\n",
              "      box-shadow: 0px 1px 2px rgba(60, 64, 67, 0.3), 0px 1px 3px 1px rgba(60, 64, 67, 0.15);\n",
              "      fill: #174EA6;\n",
              "    }\n",
              "\n",
              "    .colab-df-buttons div {\n",
              "      margin-bottom: 4px;\n",
              "    }\n",
              "\n",
              "    [theme=dark] .colab-df-convert {\n",
              "      background-color: #3B4455;\n",
              "      fill: #D2E3FC;\n",
              "    }\n",
              "\n",
              "    [theme=dark] .colab-df-convert:hover {\n",
              "      background-color: #434B5C;\n",
              "      box-shadow: 0px 1px 3px 1px rgba(0, 0, 0, 0.15);\n",
              "      filter: drop-shadow(0px 1px 2px rgba(0, 0, 0, 0.3));\n",
              "      fill: #FFFFFF;\n",
              "    }\n",
              "  </style>\n",
              "\n",
              "    <script>\n",
              "      const buttonEl =\n",
              "        document.querySelector('#df-22e8af9d-6cb1-45ec-8a4a-b4ca1a93760e button.colab-df-convert');\n",
              "      buttonEl.style.display =\n",
              "        google.colab.kernel.accessAllowed ? 'block' : 'none';\n",
              "\n",
              "      async function convertToInteractive(key) {\n",
              "        const element = document.querySelector('#df-22e8af9d-6cb1-45ec-8a4a-b4ca1a93760e');\n",
              "        const dataTable =\n",
              "          await google.colab.kernel.invokeFunction('convertToInteractive',\n",
              "                                                    [key], {});\n",
              "        if (!dataTable) return;\n",
              "\n",
              "        const docLinkHtml = 'Like what you see? Visit the ' +\n",
              "          '<a target=\"_blank\" href=https://colab.research.google.com/notebooks/data_table.ipynb>data table notebook</a>'\n",
              "          + ' to learn more about interactive tables.';\n",
              "        element.innerHTML = '';\n",
              "        dataTable['output_type'] = 'display_data';\n",
              "        await google.colab.output.renderOutput(dataTable, element);\n",
              "        const docLink = document.createElement('div');\n",
              "        docLink.innerHTML = docLinkHtml;\n",
              "        element.appendChild(docLink);\n",
              "      }\n",
              "    </script>\n",
              "  </div>\n",
              "\n",
              "\n",
              "<div id=\"df-c7f7a23a-081b-4045-abd8-88d69cdb8872\">\n",
              "  <button class=\"colab-df-quickchart\" onclick=\"quickchart('df-c7f7a23a-081b-4045-abd8-88d69cdb8872')\"\n",
              "            title=\"Suggest charts.\"\n",
              "            style=\"display:none;\">\n",
              "\n",
              "<svg xmlns=\"http://www.w3.org/2000/svg\" height=\"24px\"viewBox=\"0 0 24 24\"\n",
              "     width=\"24px\">\n",
              "    <g>\n",
              "        <path d=\"M19 3H5c-1.1 0-2 .9-2 2v14c0 1.1.9 2 2 2h14c1.1 0 2-.9 2-2V5c0-1.1-.9-2-2-2zM9 17H7v-7h2v7zm4 0h-2V7h2v10zm4 0h-2v-4h2v4z\"/>\n",
              "    </g>\n",
              "</svg>\n",
              "  </button>\n",
              "\n",
              "<style>\n",
              "  .colab-df-quickchart {\n",
              "      --bg-color: #E8F0FE;\n",
              "      --fill-color: #1967D2;\n",
              "      --hover-bg-color: #E2EBFA;\n",
              "      --hover-fill-color: #174EA6;\n",
              "      --disabled-fill-color: #AAA;\n",
              "      --disabled-bg-color: #DDD;\n",
              "  }\n",
              "\n",
              "  [theme=dark] .colab-df-quickchart {\n",
              "      --bg-color: #3B4455;\n",
              "      --fill-color: #D2E3FC;\n",
              "      --hover-bg-color: #434B5C;\n",
              "      --hover-fill-color: #FFFFFF;\n",
              "      --disabled-bg-color: #3B4455;\n",
              "      --disabled-fill-color: #666;\n",
              "  }\n",
              "\n",
              "  .colab-df-quickchart {\n",
              "    background-color: var(--bg-color);\n",
              "    border: none;\n",
              "    border-radius: 50%;\n",
              "    cursor: pointer;\n",
              "    display: none;\n",
              "    fill: var(--fill-color);\n",
              "    height: 32px;\n",
              "    padding: 0;\n",
              "    width: 32px;\n",
              "  }\n",
              "\n",
              "  .colab-df-quickchart:hover {\n",
              "    background-color: var(--hover-bg-color);\n",
              "    box-shadow: 0 1px 2px rgba(60, 64, 67, 0.3), 0 1px 3px 1px rgba(60, 64, 67, 0.15);\n",
              "    fill: var(--button-hover-fill-color);\n",
              "  }\n",
              "\n",
              "  .colab-df-quickchart-complete:disabled,\n",
              "  .colab-df-quickchart-complete:disabled:hover {\n",
              "    background-color: var(--disabled-bg-color);\n",
              "    fill: var(--disabled-fill-color);\n",
              "    box-shadow: none;\n",
              "  }\n",
              "\n",
              "  .colab-df-spinner {\n",
              "    border: 2px solid var(--fill-color);\n",
              "    border-color: transparent;\n",
              "    border-bottom-color: var(--fill-color);\n",
              "    animation:\n",
              "      spin 1s steps(1) infinite;\n",
              "  }\n",
              "\n",
              "  @keyframes spin {\n",
              "    0% {\n",
              "      border-color: transparent;\n",
              "      border-bottom-color: var(--fill-color);\n",
              "      border-left-color: var(--fill-color);\n",
              "    }\n",
              "    20% {\n",
              "      border-color: transparent;\n",
              "      border-left-color: var(--fill-color);\n",
              "      border-top-color: var(--fill-color);\n",
              "    }\n",
              "    30% {\n",
              "      border-color: transparent;\n",
              "      border-left-color: var(--fill-color);\n",
              "      border-top-color: var(--fill-color);\n",
              "      border-right-color: var(--fill-color);\n",
              "    }\n",
              "    40% {\n",
              "      border-color: transparent;\n",
              "      border-right-color: var(--fill-color);\n",
              "      border-top-color: var(--fill-color);\n",
              "    }\n",
              "    60% {\n",
              "      border-color: transparent;\n",
              "      border-right-color: var(--fill-color);\n",
              "    }\n",
              "    80% {\n",
              "      border-color: transparent;\n",
              "      border-right-color: var(--fill-color);\n",
              "      border-bottom-color: var(--fill-color);\n",
              "    }\n",
              "    90% {\n",
              "      border-color: transparent;\n",
              "      border-bottom-color: var(--fill-color);\n",
              "    }\n",
              "  }\n",
              "</style>\n",
              "\n",
              "  <script>\n",
              "    async function quickchart(key) {\n",
              "      const quickchartButtonEl =\n",
              "        document.querySelector('#' + key + ' button');\n",
              "      quickchartButtonEl.disabled = true;  // To prevent multiple clicks.\n",
              "      quickchartButtonEl.classList.add('colab-df-spinner');\n",
              "      try {\n",
              "        const charts = await google.colab.kernel.invokeFunction(\n",
              "            'suggestCharts', [key], {});\n",
              "      } catch (error) {\n",
              "        console.error('Error during call to suggestCharts:', error);\n",
              "      }\n",
              "      quickchartButtonEl.classList.remove('colab-df-spinner');\n",
              "      quickchartButtonEl.classList.add('colab-df-quickchart-complete');\n",
              "    }\n",
              "    (() => {\n",
              "      let quickchartButtonEl =\n",
              "        document.querySelector('#df-c7f7a23a-081b-4045-abd8-88d69cdb8872 button');\n",
              "      quickchartButtonEl.style.display =\n",
              "        google.colab.kernel.accessAllowed ? 'block' : 'none';\n",
              "    })();\n",
              "  </script>\n",
              "</div>\n",
              "    </div>\n",
              "  </div>\n"
            ]
          },
          "metadata": {},
          "execution_count": 4
        }
      ]
    },
    {
      "cell_type": "code",
      "source": [
        "df.columns"
      ],
      "metadata": {
        "colab": {
          "base_uri": "https://localhost:8080/"
        },
        "id": "k5zXLUeba6kg",
        "outputId": "3da2489a-10e5-429e-e009-5aff0d914eec"
      },
      "execution_count": null,
      "outputs": [
        {
          "output_type": "execute_result",
          "data": {
            "text/plain": [
              "Index(['Date', 'Open', 'High', 'Low', 'Last', 'Close', 'Total_Trade_Quantity',\n",
              "       'turnover(Lacs)'],\n",
              "      dtype='object')"
            ]
          },
          "metadata": {},
          "execution_count": 5
        }
      ]
    },
    {
      "cell_type": "code",
      "source": [
        "df.shape"
      ],
      "metadata": {
        "colab": {
          "base_uri": "https://localhost:8080/"
        },
        "id": "QyAUfCAVa-Bd",
        "outputId": "c56b34e2-1d80-4c10-f3ed-82a540a7585a"
      },
      "execution_count": null,
      "outputs": [
        {
          "output_type": "execute_result",
          "data": {
            "text/plain": [
              "(2035, 8)"
            ]
          },
          "metadata": {},
          "execution_count": 6
        }
      ]
    },
    {
      "cell_type": "code",
      "source": [
        "df.info()"
      ],
      "metadata": {
        "colab": {
          "base_uri": "https://localhost:8080/"
        },
        "id": "zm-slEx3a_rj",
        "outputId": "718e2773-7d7e-44f2-f562-506df1278f94"
      },
      "execution_count": null,
      "outputs": [
        {
          "output_type": "stream",
          "name": "stdout",
          "text": [
            "<class 'pandas.core.frame.DataFrame'>\n",
            "RangeIndex: 2035 entries, 0 to 2034\n",
            "Data columns (total 8 columns):\n",
            " #   Column                Non-Null Count  Dtype  \n",
            "---  ------                --------------  -----  \n",
            " 0   Date                  2035 non-null   object \n",
            " 1   Open                  2035 non-null   float64\n",
            " 2   High                  2035 non-null   float64\n",
            " 3   Low                   2035 non-null   float64\n",
            " 4   Last                  2035 non-null   float64\n",
            " 5   Close                 2035 non-null   float64\n",
            " 6   Total_Trade_Quantity  2035 non-null   int64  \n",
            " 7   turnover(Lacs)        2035 non-null   float64\n",
            "dtypes: float64(6), int64(1), object(1)\n",
            "memory usage: 127.3+ KB\n"
          ]
        }
      ]
    },
    {
      "cell_type": "code",
      "source": [
        "df.isnull().sum()"
      ],
      "metadata": {
        "colab": {
          "base_uri": "https://localhost:8080/"
        },
        "id": "Uj79-qb-bCwx",
        "outputId": "26efbd70-f8b8-4a2d-cea1-752f6f34b88a"
      },
      "execution_count": null,
      "outputs": [
        {
          "output_type": "execute_result",
          "data": {
            "text/plain": [
              "Date                    0\n",
              "Open                    0\n",
              "High                    0\n",
              "Low                     0\n",
              "Last                    0\n",
              "Close                   0\n",
              "Total_Trade_Quantity    0\n",
              "turnover(Lacs)          0\n",
              "dtype: int64"
            ]
          },
          "metadata": {},
          "execution_count": 8
        }
      ]
    },
    {
      "cell_type": "code",
      "source": [
        "df.describe()"
      ],
      "metadata": {
        "colab": {
          "base_uri": "https://localhost:8080/",
          "height": 300
        },
        "id": "GcgdsXQqbILC",
        "outputId": "3bce85cc-5a97-4fe2-f422-aa49ffcb9eca"
      },
      "execution_count": null,
      "outputs": [
        {
          "output_type": "execute_result",
          "data": {
            "text/plain": [
              "              Open         High          Low         Last       Close  \\\n",
              "count  2035.000000  2035.000000  2035.000000  2035.000000  2035.00000   \n",
              "mean    149.713735   151.992826   147.293931   149.474251   149.45027   \n",
              "std      48.664509    49.413109    47.931958    48.732570    48.71204   \n",
              "min      81.100000    82.800000    80.000000    81.000000    80.95000   \n",
              "25%     120.025000   122.100000   118.300000   120.075000   120.05000   \n",
              "50%     141.500000   143.400000   139.600000   141.100000   141.25000   \n",
              "75%     157.175000   159.400000   155.150000   156.925000   156.90000   \n",
              "max     327.700000   328.750000   321.650000   325.950000   325.75000   \n",
              "\n",
              "       Total_Trade_Quantity  turnover(Lacs)  \n",
              "count          2.035000e+03     2035.000000  \n",
              "mean           2.335681e+06     3899.980565  \n",
              "std            2.091778e+06     4570.767877  \n",
              "min            3.961000e+04       37.040000  \n",
              "25%            1.146444e+06     1427.460000  \n",
              "50%            1.783456e+06     2512.030000  \n",
              "75%            2.813594e+06     4539.015000  \n",
              "max            2.919102e+07    55755.080000  "
            ],
            "text/html": [
              "\n",
              "  <div id=\"df-47e4b41a-1790-4962-8c91-77ddea3e1728\" class=\"colab-df-container\">\n",
              "    <div>\n",
              "<style scoped>\n",
              "    .dataframe tbody tr th:only-of-type {\n",
              "        vertical-align: middle;\n",
              "    }\n",
              "\n",
              "    .dataframe tbody tr th {\n",
              "        vertical-align: top;\n",
              "    }\n",
              "\n",
              "    .dataframe thead th {\n",
              "        text-align: right;\n",
              "    }\n",
              "</style>\n",
              "<table border=\"1\" class=\"dataframe\">\n",
              "  <thead>\n",
              "    <tr style=\"text-align: right;\">\n",
              "      <th></th>\n",
              "      <th>Open</th>\n",
              "      <th>High</th>\n",
              "      <th>Low</th>\n",
              "      <th>Last</th>\n",
              "      <th>Close</th>\n",
              "      <th>Total_Trade_Quantity</th>\n",
              "      <th>turnover(Lacs)</th>\n",
              "    </tr>\n",
              "  </thead>\n",
              "  <tbody>\n",
              "    <tr>\n",
              "      <th>count</th>\n",
              "      <td>2035.000000</td>\n",
              "      <td>2035.000000</td>\n",
              "      <td>2035.000000</td>\n",
              "      <td>2035.000000</td>\n",
              "      <td>2035.00000</td>\n",
              "      <td>2.035000e+03</td>\n",
              "      <td>2035.000000</td>\n",
              "    </tr>\n",
              "    <tr>\n",
              "      <th>mean</th>\n",
              "      <td>149.713735</td>\n",
              "      <td>151.992826</td>\n",
              "      <td>147.293931</td>\n",
              "      <td>149.474251</td>\n",
              "      <td>149.45027</td>\n",
              "      <td>2.335681e+06</td>\n",
              "      <td>3899.980565</td>\n",
              "    </tr>\n",
              "    <tr>\n",
              "      <th>std</th>\n",
              "      <td>48.664509</td>\n",
              "      <td>49.413109</td>\n",
              "      <td>47.931958</td>\n",
              "      <td>48.732570</td>\n",
              "      <td>48.71204</td>\n",
              "      <td>2.091778e+06</td>\n",
              "      <td>4570.767877</td>\n",
              "    </tr>\n",
              "    <tr>\n",
              "      <th>min</th>\n",
              "      <td>81.100000</td>\n",
              "      <td>82.800000</td>\n",
              "      <td>80.000000</td>\n",
              "      <td>81.000000</td>\n",
              "      <td>80.95000</td>\n",
              "      <td>3.961000e+04</td>\n",
              "      <td>37.040000</td>\n",
              "    </tr>\n",
              "    <tr>\n",
              "      <th>25%</th>\n",
              "      <td>120.025000</td>\n",
              "      <td>122.100000</td>\n",
              "      <td>118.300000</td>\n",
              "      <td>120.075000</td>\n",
              "      <td>120.05000</td>\n",
              "      <td>1.146444e+06</td>\n",
              "      <td>1427.460000</td>\n",
              "    </tr>\n",
              "    <tr>\n",
              "      <th>50%</th>\n",
              "      <td>141.500000</td>\n",
              "      <td>143.400000</td>\n",
              "      <td>139.600000</td>\n",
              "      <td>141.100000</td>\n",
              "      <td>141.25000</td>\n",
              "      <td>1.783456e+06</td>\n",
              "      <td>2512.030000</td>\n",
              "    </tr>\n",
              "    <tr>\n",
              "      <th>75%</th>\n",
              "      <td>157.175000</td>\n",
              "      <td>159.400000</td>\n",
              "      <td>155.150000</td>\n",
              "      <td>156.925000</td>\n",
              "      <td>156.90000</td>\n",
              "      <td>2.813594e+06</td>\n",
              "      <td>4539.015000</td>\n",
              "    </tr>\n",
              "    <tr>\n",
              "      <th>max</th>\n",
              "      <td>327.700000</td>\n",
              "      <td>328.750000</td>\n",
              "      <td>321.650000</td>\n",
              "      <td>325.950000</td>\n",
              "      <td>325.75000</td>\n",
              "      <td>2.919102e+07</td>\n",
              "      <td>55755.080000</td>\n",
              "    </tr>\n",
              "  </tbody>\n",
              "</table>\n",
              "</div>\n",
              "    <div class=\"colab-df-buttons\">\n",
              "\n",
              "  <div class=\"colab-df-container\">\n",
              "    <button class=\"colab-df-convert\" onclick=\"convertToInteractive('df-47e4b41a-1790-4962-8c91-77ddea3e1728')\"\n",
              "            title=\"Convert this dataframe to an interactive table.\"\n",
              "            style=\"display:none;\">\n",
              "\n",
              "  <svg xmlns=\"http://www.w3.org/2000/svg\" height=\"24px\" viewBox=\"0 -960 960 960\">\n",
              "    <path d=\"M120-120v-720h720v720H120Zm60-500h600v-160H180v160Zm220 220h160v-160H400v160Zm0 220h160v-160H400v160ZM180-400h160v-160H180v160Zm440 0h160v-160H620v160ZM180-180h160v-160H180v160Zm440 0h160v-160H620v160Z\"/>\n",
              "  </svg>\n",
              "    </button>\n",
              "\n",
              "  <style>\n",
              "    .colab-df-container {\n",
              "      display:flex;\n",
              "      gap: 12px;\n",
              "    }\n",
              "\n",
              "    .colab-df-convert {\n",
              "      background-color: #E8F0FE;\n",
              "      border: none;\n",
              "      border-radius: 50%;\n",
              "      cursor: pointer;\n",
              "      display: none;\n",
              "      fill: #1967D2;\n",
              "      height: 32px;\n",
              "      padding: 0 0 0 0;\n",
              "      width: 32px;\n",
              "    }\n",
              "\n",
              "    .colab-df-convert:hover {\n",
              "      background-color: #E2EBFA;\n",
              "      box-shadow: 0px 1px 2px rgba(60, 64, 67, 0.3), 0px 1px 3px 1px rgba(60, 64, 67, 0.15);\n",
              "      fill: #174EA6;\n",
              "    }\n",
              "\n",
              "    .colab-df-buttons div {\n",
              "      margin-bottom: 4px;\n",
              "    }\n",
              "\n",
              "    [theme=dark] .colab-df-convert {\n",
              "      background-color: #3B4455;\n",
              "      fill: #D2E3FC;\n",
              "    }\n",
              "\n",
              "    [theme=dark] .colab-df-convert:hover {\n",
              "      background-color: #434B5C;\n",
              "      box-shadow: 0px 1px 3px 1px rgba(0, 0, 0, 0.15);\n",
              "      filter: drop-shadow(0px 1px 2px rgba(0, 0, 0, 0.3));\n",
              "      fill: #FFFFFF;\n",
              "    }\n",
              "  </style>\n",
              "\n",
              "    <script>\n",
              "      const buttonEl =\n",
              "        document.querySelector('#df-47e4b41a-1790-4962-8c91-77ddea3e1728 button.colab-df-convert');\n",
              "      buttonEl.style.display =\n",
              "        google.colab.kernel.accessAllowed ? 'block' : 'none';\n",
              "\n",
              "      async function convertToInteractive(key) {\n",
              "        const element = document.querySelector('#df-47e4b41a-1790-4962-8c91-77ddea3e1728');\n",
              "        const dataTable =\n",
              "          await google.colab.kernel.invokeFunction('convertToInteractive',\n",
              "                                                    [key], {});\n",
              "        if (!dataTable) return;\n",
              "\n",
              "        const docLinkHtml = 'Like what you see? Visit the ' +\n",
              "          '<a target=\"_blank\" href=https://colab.research.google.com/notebooks/data_table.ipynb>data table notebook</a>'\n",
              "          + ' to learn more about interactive tables.';\n",
              "        element.innerHTML = '';\n",
              "        dataTable['output_type'] = 'display_data';\n",
              "        await google.colab.output.renderOutput(dataTable, element);\n",
              "        const docLink = document.createElement('div');\n",
              "        docLink.innerHTML = docLinkHtml;\n",
              "        element.appendChild(docLink);\n",
              "      }\n",
              "    </script>\n",
              "  </div>\n",
              "\n",
              "\n",
              "<div id=\"df-5e9e0798-d9a2-482d-beaf-4a929b42341c\">\n",
              "  <button class=\"colab-df-quickchart\" onclick=\"quickchart('df-5e9e0798-d9a2-482d-beaf-4a929b42341c')\"\n",
              "            title=\"Suggest charts.\"\n",
              "            style=\"display:none;\">\n",
              "\n",
              "<svg xmlns=\"http://www.w3.org/2000/svg\" height=\"24px\"viewBox=\"0 0 24 24\"\n",
              "     width=\"24px\">\n",
              "    <g>\n",
              "        <path d=\"M19 3H5c-1.1 0-2 .9-2 2v14c0 1.1.9 2 2 2h14c1.1 0 2-.9 2-2V5c0-1.1-.9-2-2-2zM9 17H7v-7h2v7zm4 0h-2V7h2v10zm4 0h-2v-4h2v4z\"/>\n",
              "    </g>\n",
              "</svg>\n",
              "  </button>\n",
              "\n",
              "<style>\n",
              "  .colab-df-quickchart {\n",
              "      --bg-color: #E8F0FE;\n",
              "      --fill-color: #1967D2;\n",
              "      --hover-bg-color: #E2EBFA;\n",
              "      --hover-fill-color: #174EA6;\n",
              "      --disabled-fill-color: #AAA;\n",
              "      --disabled-bg-color: #DDD;\n",
              "  }\n",
              "\n",
              "  [theme=dark] .colab-df-quickchart {\n",
              "      --bg-color: #3B4455;\n",
              "      --fill-color: #D2E3FC;\n",
              "      --hover-bg-color: #434B5C;\n",
              "      --hover-fill-color: #FFFFFF;\n",
              "      --disabled-bg-color: #3B4455;\n",
              "      --disabled-fill-color: #666;\n",
              "  }\n",
              "\n",
              "  .colab-df-quickchart {\n",
              "    background-color: var(--bg-color);\n",
              "    border: none;\n",
              "    border-radius: 50%;\n",
              "    cursor: pointer;\n",
              "    display: none;\n",
              "    fill: var(--fill-color);\n",
              "    height: 32px;\n",
              "    padding: 0;\n",
              "    width: 32px;\n",
              "  }\n",
              "\n",
              "  .colab-df-quickchart:hover {\n",
              "    background-color: var(--hover-bg-color);\n",
              "    box-shadow: 0 1px 2px rgba(60, 64, 67, 0.3), 0 1px 3px 1px rgba(60, 64, 67, 0.15);\n",
              "    fill: var(--button-hover-fill-color);\n",
              "  }\n",
              "\n",
              "  .colab-df-quickchart-complete:disabled,\n",
              "  .colab-df-quickchart-complete:disabled:hover {\n",
              "    background-color: var(--disabled-bg-color);\n",
              "    fill: var(--disabled-fill-color);\n",
              "    box-shadow: none;\n",
              "  }\n",
              "\n",
              "  .colab-df-spinner {\n",
              "    border: 2px solid var(--fill-color);\n",
              "    border-color: transparent;\n",
              "    border-bottom-color: var(--fill-color);\n",
              "    animation:\n",
              "      spin 1s steps(1) infinite;\n",
              "  }\n",
              "\n",
              "  @keyframes spin {\n",
              "    0% {\n",
              "      border-color: transparent;\n",
              "      border-bottom-color: var(--fill-color);\n",
              "      border-left-color: var(--fill-color);\n",
              "    }\n",
              "    20% {\n",
              "      border-color: transparent;\n",
              "      border-left-color: var(--fill-color);\n",
              "      border-top-color: var(--fill-color);\n",
              "    }\n",
              "    30% {\n",
              "      border-color: transparent;\n",
              "      border-left-color: var(--fill-color);\n",
              "      border-top-color: var(--fill-color);\n",
              "      border-right-color: var(--fill-color);\n",
              "    }\n",
              "    40% {\n",
              "      border-color: transparent;\n",
              "      border-right-color: var(--fill-color);\n",
              "      border-top-color: var(--fill-color);\n",
              "    }\n",
              "    60% {\n",
              "      border-color: transparent;\n",
              "      border-right-color: var(--fill-color);\n",
              "    }\n",
              "    80% {\n",
              "      border-color: transparent;\n",
              "      border-right-color: var(--fill-color);\n",
              "      border-bottom-color: var(--fill-color);\n",
              "    }\n",
              "    90% {\n",
              "      border-color: transparent;\n",
              "      border-bottom-color: var(--fill-color);\n",
              "    }\n",
              "  }\n",
              "</style>\n",
              "\n",
              "  <script>\n",
              "    async function quickchart(key) {\n",
              "      const quickchartButtonEl =\n",
              "        document.querySelector('#' + key + ' button');\n",
              "      quickchartButtonEl.disabled = true;  // To prevent multiple clicks.\n",
              "      quickchartButtonEl.classList.add('colab-df-spinner');\n",
              "      try {\n",
              "        const charts = await google.colab.kernel.invokeFunction(\n",
              "            'suggestCharts', [key], {});\n",
              "      } catch (error) {\n",
              "        console.error('Error during call to suggestCharts:', error);\n",
              "      }\n",
              "      quickchartButtonEl.classList.remove('colab-df-spinner');\n",
              "      quickchartButtonEl.classList.add('colab-df-quickchart-complete');\n",
              "    }\n",
              "    (() => {\n",
              "      let quickchartButtonEl =\n",
              "        document.querySelector('#df-5e9e0798-d9a2-482d-beaf-4a929b42341c button');\n",
              "      quickchartButtonEl.style.display =\n",
              "        google.colab.kernel.accessAllowed ? 'block' : 'none';\n",
              "    })();\n",
              "  </script>\n",
              "</div>\n",
              "    </div>\n",
              "  </div>\n"
            ]
          },
          "metadata": {},
          "execution_count": 9
        }
      ]
    },
    {
      "cell_type": "code",
      "source": [
        "plt.figure(figsize=(10,6))\n",
        "df['Close'].plot(kind='line',figsize=(16,7),color='r',label=\"Closing Price\")\n",
        "\n",
        "plt.ylabel(\"Price\")\n",
        "plt.legend(loc=\"upper right\")\n",
        "plt.title(\"Change in closing price over the years\")\n",
        "plt.grid()\n"
      ],
      "metadata": {
        "colab": {
          "base_uri": "https://localhost:8080/",
          "height": 447
        },
        "id": "YGG35X6ibJmx",
        "outputId": "ec61eb90-91f6-4a75-d7c7-c562121b6a35"
      },
      "execution_count": null,
      "outputs": [
        {
          "output_type": "display_data",
          "data": {
            "text/plain": [
              "<Figure size 1600x700 with 1 Axes>"
            ],
            "image/png": "[encoded data removed]"
          },
          "metadata": {}
        }
      ]
    },
    {
      "cell_type": "code",
      "source": [
        "plt.figure(figsize=(10,6))\n",
        "df['Open'].plot(kind='line',figsize=(16,7),color='y',label=\"Opening Price\")\n",
        "\n",
        "plt.ylabel(\"Price\")\n",
        "plt.legend(loc=\"upper left\")\n",
        "plt.title(\"Change in opening price over the years\")\n",
        "plt.grid()"
      ],
      "metadata": {
        "colab": {
          "base_uri": "https://localhost:8080/",
          "height": 447
        },
        "id": "oaE_fwSIbQQM",
        "outputId": "2ede38ab-c41a-4d82-abb2-d62c5aed2407"
      },
      "execution_count": null,
      "outputs": [
        {
          "output_type": "display_data",
          "data": {
            "text/plain": [
              "<Figure size 1600x700 with 1 Axes>"
            ],
            "image/png": "[encoded data removed]"
          },
          "metadata": {}
        }
      ]
    },
    {
      "cell_type": "code",
      "source": [
        "df1=df.reset_index()['Close']\n",
        "df1"
      ],
      "metadata": {
        "colab": {
          "base_uri": "https://localhost:8080/"
        },
        "id": "EPJvMO7lbWW2",
        "outputId": "c9702a3e-caf7-495a-f290-f5ccdab63a6f"
      },
      "execution_count": null,
      "outputs": [
        {
          "output_type": "execute_result",
          "data": {
            "text/plain": [
              "0       233.75\n",
              "1       233.25\n",
              "2       234.25\n",
              "3       236.10\n",
              "4       233.30\n",
              "         ...  \n",
              "2030    118.65\n",
              "2031    117.60\n",
              "2032    120.65\n",
              "2033    120.90\n",
              "2034    121.55\n",
              "Name: Close, Length: 2035, dtype: float64"
            ]
          },
          "metadata": {},
          "execution_count": 12
        }
      ]
    },
    {
      "cell_type": "code",
      "source": [
        "plt.figure(figsize=(12,6))\n",
        "sns.heatmap(df.corr(),annot=True,cmap='BuPu')"
      ],
      "metadata": {
        "colab": {
          "base_uri": "https://localhost:8080/",
          "height": 677
        },
        "id": "ho1bX09pbctA",
        "outputId": "13452e3f-cc09-4e8c-8c6f-fed56543d1fc"
      },
      "execution_count": null,
      "outputs": [
        {
          "output_type": "stream",
          "name": "stderr",
          "text": [
            "<ipython-input-16-146f16eb7eae>:2: FutureWarning: The default value of numeric_only in DataFrame.corr is deprecated. In a future version, it will default to False. Select only valid columns or specify the value of numeric_only to silence this warning.\n",
            "  sns.heatmap(df.corr(),annot=True,cmap='BuPu')\n"
          ]
        },
        {
          "output_type": "execute_result",
          "data": {
            "text/plain": [
              "<Axes: >"
            ]
          },
          "metadata": {},
          "execution_count": 16
        },
        {
          "output_type": "display_data",
          "data": {
            "text/plain": [
              "<Figure size 1200x600 with 2 Axes>"
            ],
            "image/png": "[encoded data removed]"
          },
          "metadata": {}
        }
      ]
    },
    {
      "cell_type": "code",
      "source": [
        "print(df.columns)\n"
      ],
      "metadata": {
        "colab": {
          "base_uri": "https://localhost:8080/"
        },
        "id": "PSVR2hGdbsp9",
        "outputId": "e94ea499-3e78-4b6c-ff88-66dad56379d6"
      },
      "execution_count": null,
      "outputs": [
        {
          "output_type": "stream",
          "name": "stdout",
          "text": [
            "Index(['Date', 'Open', 'High', 'Low', 'Last', 'Close', 'Total_Trade_Quantity',\n",
            "       'turnover(Lacs)'],\n",
            "      dtype='object')\n"
          ]
        }
      ]
    },
    {
      "cell_type": "code",
      "source": [
        "plt.figure(figsize=(11,5))\n",
        "plt.subplot(1,2,1)\n",
        "sns.boxplot(data=df,y='Total_Trade_Quantity',color='green')\n",
        "plt.subplot(1,2,2)\n",
        "sns.boxplot(data=df,y='turnover(Lacs)',color='red')"
      ],
      "metadata": {
        "colab": {
          "base_uri": "https://localhost:8080/",
          "height": 459
        },
        "id": "ot_61JsPcUFJ",
        "outputId": "b8137fa7-b20b-4f6f-87e2-18a8bfc71d78"
      },
      "execution_count": null,
      "outputs": [
        {
          "output_type": "execute_result",
          "data": {
            "text/plain": [
              "<Axes: ylabel='turnover(Lacs)'>"
            ]
          },
          "metadata": {},
          "execution_count": 21
        },
        {
          "output_type": "display_data",
          "data": {
            "text/plain": [
              "<Figure size 1100x500 with 2 Axes>"
            ],
            "image/png": "[encoded data removed]"
          },
          "metadata": {}
        }
      ]
    },
    {
      "cell_type": "code",
      "source": [
        "fig=plt.figure(figsize=(7,6))\n",
        "plt.scatter(df['Total_Trade_Quantity'],df['turnover(Lacs)'], alpha=0.5, edgecolor='r', color='cyan')\n",
        "plt.xlabel(\"Trade Quantity (in 100000)\")\n",
        "plt.ylabel(\"Turnover (in lacs)\")\n",
        "plt.title(\" Selling Units Vs Turnover\")\n",
        "plt.show()"
      ],
      "metadata": {
        "colab": {
          "base_uri": "https://localhost:8080/",
          "height": 564
        },
        "id": "RgHKKHFkeKpa",
        "outputId": "865e092c-b005-4454-fa98-fcf3b78a60c1"
      },
      "execution_count": null,
      "outputs": [
        {
          "output_type": "display_data",
          "data": {
            "text/plain": [
              "<Figure size 700x600 with 1 Axes>"
            ],
            "image/png": "[encoded data removed]"
          },
          "metadata": {}
        }
      ]
    },
    {
      "cell_type": "code",
      "source": [
        "training_set= df[['Open']]\n",
        "training_set=pd.DataFrame(training_set)\n",
        "training_set"
      ],
      "metadata": {
        "colab": {
          "base_uri": "https://localhost:8080/",
          "height": 423
        },
        "id": "S7yjgS26eXBd",
        "outputId": "9727ccb5-ae00-4f1f-8ea8-66012b2688c0"
      },
      "execution_count": null,
      "outputs": [
        {
          "output_type": "execute_result",
          "data": {
            "text/plain": [
              "        Open\n",
              "0     234.05\n",
              "1     234.55\n",
              "2     240.00\n",
              "3     233.30\n",
              "4     233.55\n",
              "...      ...\n",
              "2030  117.60\n",
              "2031  120.10\n",
              "2032  121.80\n",
              "2033  120.30\n",
              "2034  122.10\n",
              "\n",
              "[2035 rows x 1 columns]"
            ],
            "text/html": [
              "\n",
              "  <div id=\"df-296c0118-af7a-4fb5-8d8d-727c8c240e7a\" class=\"colab-df-container\">\n",
              "    <div>\n",
              "<style scoped>\n",
              "    .dataframe tbody tr th:only-of-type {\n",
              "        vertical-align: middle;\n",
              "    }\n",
              "\n",
              "    .dataframe tbody tr th {\n",
              "        vertical-align: top;\n",
              "    }\n",
              "\n",
              "    .dataframe thead th {\n",
              "        text-align: right;\n",
              "    }\n",
              "</style>\n",
              "<table border=\"1\" class=\"dataframe\">\n",
              "  <thead>\n",
              "    <tr style=\"text-align: right;\">\n",
              "      <th></th>\n",
              "      <th>Open</th>\n",
              "    </tr>\n",
              "  </thead>\n",
              "  <tbody>\n",
              "    <tr>\n",
              "      <th>0</th>\n",
              "      <td>234.05</td>\n",
              "    </tr>\n",
              "    <tr>\n",
              "      <th>1</th>\n",
              "      <td>234.55</td>\n",
              "    </tr>\n",
              "    <tr>\n",
              "      <th>2</th>\n",
              "      <td>240.00</td>\n",
              "    </tr>\n",
              "    <tr>\n",
              "      <th>3</th>\n",
              "      <td>233.30</td>\n",
              "    </tr>\n",
              "    <tr>\n",
              "      <th>4</th>\n",
              "      <td>233.55</td>\n",
              "    </tr>\n",
              "    <tr>\n",
              "      <th>...</th>\n",
              "      <td>...</td>\n",
              "    </tr>\n",
              "    <tr>\n",
              "      <th>2030</th>\n",
              "      <td>117.60</td>\n",
              "    </tr>\n",
              "    <tr>\n",
              "      <th>2031</th>\n",
              "      <td>120.10</td>\n",
              "    </tr>\n",
              "    <tr>\n",
              "      <th>2032</th>\n",
              "      <td>121.80</td>\n",
              "    </tr>\n",
              "    <tr>\n",
              "      <th>2033</th>\n",
              "      <td>120.30</td>\n",
              "    </tr>\n",
              "    <tr>\n",
              "      <th>2034</th>\n",
              "      <td>122.10</td>\n",
              "    </tr>\n",
              "  </tbody>\n",
              "</table>\n",
              "<p>2035 rows × 1 columns</p>\n",
              "</div>\n",
              "    <div class=\"colab-df-buttons\">\n",
              "\n",
              "  <div class=\"colab-df-container\">\n",
              "    <button class=\"colab-df-convert\" onclick=\"convertToInteractive('df-296c0118-af7a-4fb5-8d8d-727c8c240e7a')\"\n",
              "            title=\"Convert this dataframe to an interactive table.\"\n",
              "            style=\"display:none;\">\n",
              "\n",
              "  <svg xmlns=\"http://www.w3.org/2000/svg\" height=\"24px\" viewBox=\"0 -960 960 960\">\n",
              "    <path d=\"M120-120v-720h720v720H120Zm60-500h600v-160H180v160Zm220 220h160v-160H400v160Zm0 220h160v-160H400v160ZM180-400h160v-160H180v160Zm440 0h160v-160H620v160ZM180-180h160v-160H180v160Zm440 0h160v-160H620v160Z\"/>\n",
              "  </svg>\n",
              "    </button>\n",
              "\n",
              "  <style>\n",
              "    .colab-df-container {\n",
              "      display:flex;\n",
              "      gap: 12px;\n",
              "    }\n",
              "\n",
              "    .colab-df-convert {\n",
              "      background-color: #E8F0FE;\n",
              "      border: none;\n",
              "      border-radius: 50%;\n",
              "      cursor: pointer;\n",
              "      display: none;\n",
              "      fill: #1967D2;\n",
              "      height: 32px;\n",
              "      padding: 0 0 0 0;\n",
              "      width: 32px;\n",
              "    }\n",
              "\n",
              "    .colab-df-convert:hover {\n",
              "      background-color: #E2EBFA;\n",
              "      box-shadow: 0px 1px 2px rgba(60, 64, 67, 0.3), 0px 1px 3px 1px rgba(60, 64, 67, 0.15);\n",
              "      fill: #174EA6;\n",
              "    }\n",
              "\n",
              "    .colab-df-buttons div {\n",
              "      margin-bottom: 4px;\n",
              "    }\n",
              "\n",
              "    [theme=dark] .colab-df-convert {\n",
              "      background-color: #3B4455;\n",
              "      fill: #D2E3FC;\n",
              "    }\n",
              "\n",
              "    [theme=dark] .colab-df-convert:hover {\n",
              "      background-color: #434B5C;\n",
              "      box-shadow: 0px 1px 3px 1px rgba(0, 0, 0, 0.15);\n",
              "      filter: drop-shadow(0px 1px 2px rgba(0, 0, 0, 0.3));\n",
              "      fill: #FFFFFF;\n",
              "    }\n",
              "  </style>\n",
              "\n",
              "    <script>\n",
              "      const buttonEl =\n",
              "        document.querySelector('#df-296c0118-af7a-4fb5-8d8d-727c8c240e7a button.colab-df-convert');\n",
              "      buttonEl.style.display =\n",
              "        google.colab.kernel.accessAllowed ? 'block' : 'none';\n",
              "\n",
              "      async function convertToInteractive(key) {\n",
              "        const element = document.querySelector('#df-296c0118-af7a-4fb5-8d8d-727c8c240e7a');\n",
              "        const dataTable =\n",
              "          await google.colab.kernel.invokeFunction('convertToInteractive',\n",
              "                                                    [key], {});\n",
              "        if (!dataTable) return;\n",
              "\n",
              "        const docLinkHtml = 'Like what you see? Visit the ' +\n",
              "          '<a target=\"_blank\" href=https://colab.research.google.com/notebooks/data_table.ipynb>data table notebook</a>'\n",
              "          + ' to learn more about interactive tables.';\n",
              "        element.innerHTML = '';\n",
              "        dataTable['output_type'] = 'display_data';\n",
              "        await google.colab.output.renderOutput(dataTable, element);\n",
              "        const docLink = document.createElement('div');\n",
              "        docLink.innerHTML = docLinkHtml;\n",
              "        element.appendChild(docLink);\n",
              "      }\n",
              "    </script>\n",
              "  </div>\n",
              "\n",
              "\n",
              "<div id=\"df-ea0017d6-2001-4aac-b5dd-ab485e02c768\">\n",
              "  <button class=\"colab-df-quickchart\" onclick=\"quickchart('df-ea0017d6-2001-4aac-b5dd-ab485e02c768')\"\n",
              "            title=\"Suggest charts.\"\n",
              "            style=\"display:none;\">\n",
              "\n",
              "<svg xmlns=\"http://www.w3.org/2000/svg\" height=\"24px\"viewBox=\"0 0 24 24\"\n",
              "     width=\"24px\">\n",
              "    <g>\n",
              "        <path d=\"M19 3H5c-1.1 0-2 .9-2 2v14c0 1.1.9 2 2 2h14c1.1 0 2-.9 2-2V5c0-1.1-.9-2-2-2zM9 17H7v-7h2v7zm4 0h-2V7h2v10zm4 0h-2v-4h2v4z\"/>\n",
              "    </g>\n",
              "</svg>\n",
              "  </button>\n",
              "\n",
              "<style>\n",
              "  .colab-df-quickchart {\n",
              "      --bg-color: #E8F0FE;\n",
              "      --fill-color: #1967D2;\n",
              "      --hover-bg-color: #E2EBFA;\n",
              "      --hover-fill-color: #174EA6;\n",
              "      --disabled-fill-color: #AAA;\n",
              "      --disabled-bg-color: #DDD;\n",
              "  }\n",
              "\n",
              "  [theme=dark] .colab-df-quickchart {\n",
              "      --bg-color: #3B4455;\n",
              "      --fill-color: #D2E3FC;\n",
              "      --hover-bg-color: #434B5C;\n",
              "      --hover-fill-color: #FFFFFF;\n",
              "      --disabled-bg-color: #3B4455;\n",
              "      --disabled-fill-color: #666;\n",
              "  }\n",
              "\n",
              "  .colab-df-quickchart {\n",
              "    background-color: var(--bg-color);\n",
              "    border: none;\n",
              "    border-radius: 50%;\n",
              "    cursor: pointer;\n",
              "    display: none;\n",
              "    fill: var(--fill-color);\n",
              "    height: 32px;\n",
              "    padding: 0;\n",
              "    width: 32px;\n",
              "  }\n",
              "\n",
              "  .colab-df-quickchart:hover {\n",
              "    background-color: var(--hover-bg-color);\n",
              "    box-shadow: 0 1px 2px rgba(60, 64, 67, 0.3), 0 1px 3px 1px rgba(60, 64, 67, 0.15);\n",
              "    fill: var(--button-hover-fill-color);\n",
              "  }\n",
              "\n",
              "  .colab-df-quickchart-complete:disabled,\n",
              "  .colab-df-quickchart-complete:disabled:hover {\n",
              "    background-color: var(--disabled-bg-color);\n",
              "    fill: var(--disabled-fill-color);\n",
              "    box-shadow: none;\n",
              "  }\n",
              "\n",
              "  .colab-df-spinner {\n",
              "    border: 2px solid var(--fill-color);\n",
              "    border-color: transparent;\n",
              "    border-bottom-color: var(--fill-color);\n",
              "    animation:\n",
              "      spin 1s steps(1) infinite;\n",
              "  }\n",
              "\n",
              "  @keyframes spin {\n",
              "    0% {\n",
              "      border-color: transparent;\n",
              "      border-bottom-color: var(--fill-color);\n",
              "      border-left-color: var(--fill-color);\n",
              "    }\n",
              "    20% {\n",
              "      border-color: transparent;\n",
              "      border-left-color: var(--fill-color);\n",
              "      border-top-color: var(--fill-color);\n",
              "    }\n",
              "    30% {\n",
              "      border-color: transparent;\n",
              "      border-left-color: var(--fill-color);\n",
              "      border-top-color: var(--fill-color);\n",
              "      border-right-color: var(--fill-color);\n",
              "    }\n",
              "    40% {\n",
              "      border-color: transparent;\n",
              "      border-right-color: var(--fill-color);\n",
              "      border-top-color: var(--fill-color);\n",
              "    }\n",
              "    60% {\n",
              "      border-color: transparent;\n",
              "      border-right-color: var(--fill-color);\n",
              "    }\n",
              "    80% {\n",
              "      border-color: transparent;\n",
              "      border-right-color: var(--fill-color);\n",
              "      border-bottom-color: var(--fill-color);\n",
              "    }\n",
              "    90% {\n",
              "      border-color: transparent;\n",
              "      border-bottom-color: var(--fill-color);\n",
              "    }\n",
              "  }\n",
              "</style>\n",
              "\n",
              "  <script>\n",
              "    async function quickchart(key) {\n",
              "      const quickchartButtonEl =\n",
              "        document.querySelector('#' + key + ' button');\n",
              "      quickchartButtonEl.disabled = true;  // To prevent multiple clicks.\n",
              "      quickchartButtonEl.classList.add('colab-df-spinner');\n",
              "      try {\n",
              "        const charts = await google.colab.kernel.invokeFunction(\n",
              "            'suggestCharts', [key], {});\n",
              "      } catch (error) {\n",
              "        console.error('Error during call to suggestCharts:', error);\n",
              "      }\n",
              "      quickchartButtonEl.classList.remove('colab-df-spinner');\n",
              "      quickchartButtonEl.classList.add('colab-df-quickchart-complete');\n",
              "    }\n",
              "    (() => {\n",
              "      let quickchartButtonEl =\n",
              "        document.querySelector('#df-ea0017d6-2001-4aac-b5dd-ab485e02c768 button');\n",
              "      quickchartButtonEl.style.display =\n",
              "        google.colab.kernel.accessAllowed ? 'block' : 'none';\n",
              "    })();\n",
              "  </script>\n",
              "</div>\n",
              "    </div>\n",
              "  </div>\n"
            ]
          },
          "metadata": {},
          "execution_count": 24
        }
      ]
    },
    {
      "cell_type": "code",
      "source": [
        "scaler=MinMaxScaler(feature_range=(0,1))\n",
        "training_set_scaler=scaler.fit_transform(np.array(df1).reshape(-1,1))"
      ],
      "metadata": {
        "id": "vamfmufieZik"
      },
      "execution_count": null,
      "outputs": []
    },
    {
      "cell_type": "code",
      "source": [
        "training_set_scaler"
      ],
      "metadata": {
        "colab": {
          "base_uri": "https://localhost:8080/"
        },
        "id": "NuJgTSXdedQV",
        "outputId": "73dd9c67-96e9-4c8c-8d30-2bf23fb04da2"
      },
      "execution_count": null,
      "outputs": [
        {
          "output_type": "execute_result",
          "data": {
            "text/plain": [
              "array([[0.62418301],\n",
              "       [0.62214052],\n",
              "       [0.62622549],\n",
              "       ...,\n",
              "       [0.1621732 ],\n",
              "       [0.16319444],\n",
              "       [0.16584967]])"
            ]
          },
          "metadata": {},
          "execution_count": 26
        }
      ]
    },
    {
      "cell_type": "code",
      "source": [
        "train_size1= int(len(training_set_scaler)*0.65)\n",
        "test_size1=int(len(training_set_scaler))-train_size1\n",
        "train_data1,test_data1=training_set_scaler[0:train_size1,:],training_set_scaler[train_size1:len(df),:1]"
      ],
      "metadata": {
        "id": "Z6bSFx9FegWv"
      },
      "execution_count": null,
      "outputs": []
    },
    {
      "cell_type": "code",
      "source": [
        "train_size1"
      ],
      "metadata": {
        "colab": {
          "base_uri": "https://localhost:8080/"
        },
        "id": "lYoYPTQSekf2",
        "outputId": "266e7fd5-a666-46dc-e964-163a57d4a55c"
      },
      "execution_count": null,
      "outputs": [
        {
          "output_type": "execute_result",
          "data": {
            "text/plain": [
              "1322"
            ]
          },
          "metadata": {},
          "execution_count": 28
        }
      ]
    },
    {
      "cell_type": "code",
      "source": [
        "def create_dataset(dataset,time_step=1):\n",
        "    dataX, dataY = [], []\n",
        "    for i in range(len(dataset)-time_step-1):\n",
        "        a = dataset[i:(i+time_step), 0]   ###i=0, 0,1,2,3-----99   100\n",
        "        dataX.append(a)\n",
        "        dataY.append(dataset[i + time_step, 0])\n",
        "    return np.array(dataX), np.array(dataY)"
      ],
      "metadata": {
        "id": "HC8IVcEQepXI"
      },
      "execution_count": null,
      "outputs": []
    },
    {
      "cell_type": "code",
      "source": [
        "time_step=100\n",
        "x_train, y_train=create_dataset(train_data1, time_step)\n",
        "x_test, y_test= create_dataset(test_data1, time_step)"
      ],
      "metadata": {
        "id": "FDPBkYwgetEZ"
      },
      "execution_count": null,
      "outputs": []
    },
    {
      "cell_type": "code",
      "source": [
        "print(x_train.shape,y_train.shape)"
      ],
      "metadata": {
        "colab": {
          "base_uri": "https://localhost:8080/"
        },
        "id": "vAiyjfcJewtK",
        "outputId": "31c3fb13-7dee-4d4b-97b5-f4823ef6a0f0"
      },
      "execution_count": null,
      "outputs": [
        {
          "output_type": "stream",
          "name": "stdout",
          "text": [
            "(1221, 100) (1221,)\n"
          ]
        }
      ]
    },
    {
      "cell_type": "code",
      "source": [
        "x_test.shape"
      ],
      "metadata": {
        "colab": {
          "base_uri": "https://localhost:8080/"
        },
        "id": "QOjWyMrfe1dS",
        "outputId": "fcceb415-d65e-43d0-abe3-1eff56ea1ea9"
      },
      "execution_count": null,
      "outputs": [
        {
          "output_type": "execute_result",
          "data": {
            "text/plain": [
              "(612, 100)"
            ]
          },
          "metadata": {},
          "execution_count": 32
        }
      ]
    },
    {
      "cell_type": "code",
      "source": [
        "y_test.shape"
      ],
      "metadata": {
        "colab": {
          "base_uri": "https://localhost:8080/"
        },
        "id": "G-ejDq3bfA8b",
        "outputId": "da959fa9-019e-4554-e542-1752c18a7a76"
      },
      "execution_count": null,
      "outputs": [
        {
          "output_type": "execute_result",
          "data": {
            "text/plain": [
              "(612,)"
            ]
          },
          "metadata": {},
          "execution_count": 33
        }
      ]
    },
    {
      "cell_type": "code",
      "source": [
        "x_train = x_train.reshape(x_train.shape[0],x_train.shape[1] , 1)\n",
        "x_test = x_test.reshape(x_test.shape[0],x_test.shape[1] , 1)"
      ],
      "metadata": {
        "id": "VmKo-zrNfEtf"
      },
      "execution_count": null,
      "outputs": []
    },
    {
      "cell_type": "code",
      "source": [
        "model = Sequential()\n",
        "model.add(LSTM(50, return_sequences=True, input_shape=(100,1)))\n",
        "model.add(LSTM(50, return_sequences=True, input_shape=(100,1)))\n",
        "model.add(LSTM(50))\n",
        "model.add(Dense(1))\n",
        "model.compile(loss='mean_squared_error', optimizer='adam', metrics='acc')"
      ],
      "metadata": {
        "id": "P-U6KCiRfSb0"
      },
      "execution_count": null,
      "outputs": []
    },
    {
      "cell_type": "code",
      "source": [
        "model.summary()"
      ],
      "metadata": {
        "colab": {
          "base_uri": "https://localhost:8080/"
        },
        "id": "OB56KLCvfWWl",
        "outputId": "56a5b14c-4303-461f-b1a5-63c8f0147ce6"
      },
      "execution_count": null,
      "outputs": [
        {
          "output_type": "stream",
          "name": "stdout",
          "text": [
            "Model: \"sequential\"\n",
            "_________________________________________________________________\n",
            " Layer (type)                Output Shape              Param #   \n",
            "=================================================================\n",
            " lstm (LSTM)                 (None, 100, 50)           10400     \n",
            "                                                                 \n",
            " lstm_1 (LSTM)               (None, 100, 50)           20200     \n",
            "                                                                 \n",
            " lstm_2 (LSTM)               (None, 50)                20200     \n",
            "                                                                 \n",
            " dense (Dense)               (None, 1)                 51        \n",
            "                                                                 \n",
            "=================================================================\n",
            "Total params: 50851 (198.64 KB)\n",
            "Trainable params: 50851 (198.64 KB)\n",
            "Non-trainable params: 0 (0.00 Byte)\n",
            "_________________________________________________________________\n"
          ]
        }
      ]
    },
    {
      "cell_type": "code",
      "source": [
        "model.fit(x_train, y_train, validation_data = (x_test, y_test), epochs = 75, batch_size = 64, verbose = 1)"
      ],
      "metadata": {
        "colab": {
          "base_uri": "https://localhost:8080/"
        },
        "id": "m7VuoRx9faJV",
        "outputId": "b1e431df-afaa-40a3-f691-e08fba128074"
      },
      "execution_count": null,
      "outputs": [
        {
          "output_type": "stream",
          "name": "stdout",
          "text": [
            "Epoch 1/75\n",
            "20/20 [==============================] - 7s 152ms/step - loss: 0.0240 - acc: 0.0000e+00 - val_loss: 0.0043 - val_acc: 0.0016\n",
            "Epoch 2/75\n",
            "20/20 [==============================] - 2s 107ms/step - loss: 0.0029 - acc: 8.1900e-04 - val_loss: 9.5044e-04 - val_acc: 0.0016\n",
            "Epoch 3/75\n",
            "20/20 [==============================] - 2s 110ms/step - loss: 0.0019 - acc: 8.1900e-04 - val_loss: 8.3142e-04 - val_acc: 0.0016\n",
            "Epoch 4/75\n",
            "20/20 [==============================] - 3s 137ms/step - loss: 0.0016 - acc: 8.1900e-04 - val_loss: 9.7013e-04 - val_acc: 0.0016\n",
            "Epoch 5/75\n",
            "20/20 [==============================] - 2s 110ms/step - loss: 0.0015 - acc: 8.1900e-04 - val_loss: 0.0010 - val_acc: 0.0016\n",
            "Epoch 6/75\n",
            "20/20 [==============================] - 2s 110ms/step - loss: 0.0014 - acc: 8.1900e-04 - val_loss: 9.7683e-04 - val_acc: 0.0016\n",
            "Epoch 7/75\n",
            "20/20 [==============================] - 2s 108ms/step - loss: 0.0014 - acc: 8.1900e-04 - val_loss: 0.0010 - val_acc: 0.0016\n",
            "Epoch 8/75\n",
            "20/20 [==============================] - 2s 107ms/step - loss: 0.0012 - acc: 8.1900e-04 - val_loss: 0.0011 - val_acc: 0.0016\n",
            "Epoch 9/75\n",
            "20/20 [==============================] - 3s 139ms/step - loss: 0.0012 - acc: 8.1900e-04 - val_loss: 7.8892e-04 - val_acc: 0.0016\n",
            "Epoch 10/75\n",
            "20/20 [==============================] - 2s 109ms/step - loss: 0.0014 - acc: 8.1900e-04 - val_loss: 9.3033e-04 - val_acc: 0.0016\n",
            "Epoch 11/75\n",
            "20/20 [==============================] - 2s 109ms/step - loss: 0.0013 - acc: 8.1900e-04 - val_loss: 8.3024e-04 - val_acc: 0.0016\n",
            "Epoch 12/75\n",
            "20/20 [==============================] - 2s 109ms/step - loss: 0.0012 - acc: 8.1900e-04 - val_loss: 7.6822e-04 - val_acc: 0.0016\n",
            "Epoch 13/75\n",
            "20/20 [==============================] - 2s 112ms/step - loss: 0.0011 - acc: 8.1900e-04 - val_loss: 7.6345e-04 - val_acc: 0.0016\n",
            "Epoch 14/75\n",
            "20/20 [==============================] - 3s 159ms/step - loss: 0.0010 - acc: 8.1900e-04 - val_loss: 8.1152e-04 - val_acc: 0.0016\n",
            "Epoch 15/75\n",
            "20/20 [==============================] - 2s 108ms/step - loss: 0.0010 - acc: 8.1900e-04 - val_loss: 0.0011 - val_acc: 0.0016\n",
            "Epoch 16/75\n",
            "20/20 [==============================] - 2s 108ms/step - loss: 0.0011 - acc: 8.1900e-04 - val_loss: 7.4941e-04 - val_acc: 0.0016\n",
            "Epoch 17/75\n",
            "20/20 [==============================] - 2s 109ms/step - loss: 9.4825e-04 - acc: 8.1900e-04 - val_loss: 7.8147e-04 - val_acc: 0.0016\n",
            "Epoch 18/75\n",
            "20/20 [==============================] - 2s 109ms/step - loss: 9.5756e-04 - acc: 8.1900e-04 - val_loss: 6.9760e-04 - val_acc: 0.0016\n",
            "Epoch 19/75\n",
            "20/20 [==============================] - 3s 141ms/step - loss: 8.8560e-04 - acc: 8.1900e-04 - val_loss: 7.3045e-04 - val_acc: 0.0016\n",
            "Epoch 20/75\n",
            "20/20 [==============================] - 2s 107ms/step - loss: 8.7573e-04 - acc: 8.1900e-04 - val_loss: 6.4319e-04 - val_acc: 0.0016\n",
            "Epoch 21/75\n",
            "20/20 [==============================] - 2s 109ms/step - loss: 8.3872e-04 - acc: 8.1900e-04 - val_loss: 6.3092e-04 - val_acc: 0.0016\n",
            "Epoch 22/75\n",
            "20/20 [==============================] - 2s 108ms/step - loss: 8.1905e-04 - acc: 8.1900e-04 - val_loss: 7.6972e-04 - val_acc: 0.0016\n",
            "Epoch 23/75\n",
            "20/20 [==============================] - 2s 107ms/step - loss: 9.7492e-04 - acc: 8.1900e-04 - val_loss: 6.9876e-04 - val_acc: 0.0016\n",
            "Epoch 24/75\n",
            "20/20 [==============================] - 3s 140ms/step - loss: 7.4225e-04 - acc: 8.1900e-04 - val_loss: 6.3403e-04 - val_acc: 0.0016\n",
            "Epoch 25/75\n",
            "20/20 [==============================] - 2s 110ms/step - loss: 7.3520e-04 - acc: 8.1900e-04 - val_loss: 6.7753e-04 - val_acc: 0.0016\n",
            "Epoch 26/75\n",
            "20/20 [==============================] - 2s 110ms/step - loss: 7.8446e-04 - acc: 8.1900e-04 - val_loss: 8.7209e-04 - val_acc: 0.0016\n",
            "Epoch 27/75\n",
            "20/20 [==============================] - 2s 109ms/step - loss: 7.2307e-04 - acc: 8.1900e-04 - val_loss: 7.0736e-04 - val_acc: 0.0016\n",
            "Epoch 28/75\n",
            "20/20 [==============================] - 2s 109ms/step - loss: 7.5833e-04 - acc: 8.1900e-04 - val_loss: 0.0010 - val_acc: 0.0016\n",
            "Epoch 29/75\n",
            "20/20 [==============================] - 3s 133ms/step - loss: 8.2759e-04 - acc: 8.1900e-04 - val_loss: 7.2226e-04 - val_acc: 0.0016\n",
            "Epoch 30/75\n",
            "20/20 [==============================] - 2s 114ms/step - loss: 6.7348e-04 - acc: 8.1900e-04 - val_loss: 6.0298e-04 - val_acc: 0.0016\n",
            "Epoch 31/75\n",
            "20/20 [==============================] - 2s 108ms/step - loss: 7.3957e-04 - acc: 8.1900e-04 - val_loss: 7.9585e-04 - val_acc: 0.0016\n",
            "Epoch 32/75\n",
            "20/20 [==============================] - 2s 110ms/step - loss: 6.4330e-04 - acc: 8.1900e-04 - val_loss: 8.2431e-04 - val_acc: 0.0016\n",
            "Epoch 33/75\n",
            "20/20 [==============================] - 2s 110ms/step - loss: 6.5915e-04 - acc: 8.1900e-04 - val_loss: 7.2362e-04 - val_acc: 0.0016\n",
            "Epoch 34/75\n",
            "20/20 [==============================] - 2s 122ms/step - loss: 6.2697e-04 - acc: 8.1900e-04 - val_loss: 8.7774e-04 - val_acc: 0.0016\n",
            "Epoch 35/75\n",
            "20/20 [==============================] - 3s 125ms/step - loss: 6.2888e-04 - acc: 8.1900e-04 - val_loss: 5.8440e-04 - val_acc: 0.0016\n",
            "Epoch 36/75\n",
            "20/20 [==============================] - 2s 108ms/step - loss: 5.8869e-04 - acc: 8.1900e-04 - val_loss: 5.7906e-04 - val_acc: 0.0016\n",
            "Epoch 37/75\n",
            "20/20 [==============================] - 2s 110ms/step - loss: 5.8482e-04 - acc: 8.1900e-04 - val_loss: 8.3138e-04 - val_acc: 0.0016\n",
            "Epoch 38/75\n",
            "20/20 [==============================] - 2s 108ms/step - loss: 5.8549e-04 - acc: 8.1900e-04 - val_loss: 7.2050e-04 - val_acc: 0.0016\n",
            "Epoch 39/75\n",
            "20/20 [==============================] - 2s 115ms/step - loss: 5.9463e-04 - acc: 8.1900e-04 - val_loss: 5.6604e-04 - val_acc: 0.0016\n",
            "Epoch 40/75\n",
            "20/20 [==============================] - 3s 131ms/step - loss: 5.3637e-04 - acc: 8.1900e-04 - val_loss: 5.5234e-04 - val_acc: 0.0016\n",
            "Epoch 41/75\n",
            "20/20 [==============================] - 2s 107ms/step - loss: 5.5508e-04 - acc: 8.1900e-04 - val_loss: 6.6137e-04 - val_acc: 0.0016\n",
            "Epoch 42/75\n",
            "20/20 [==============================] - 2s 108ms/step - loss: 5.3663e-04 - acc: 8.1900e-04 - val_loss: 7.7806e-04 - val_acc: 0.0016\n",
            "Epoch 43/75\n",
            "20/20 [==============================] - 2s 110ms/step - loss: 6.2827e-04 - acc: 8.1900e-04 - val_loss: 5.2722e-04 - val_acc: 0.0016\n",
            "Epoch 44/75\n",
            "20/20 [==============================] - 2s 108ms/step - loss: 5.6166e-04 - acc: 8.1900e-04 - val_loss: 7.2142e-04 - val_acc: 0.0016\n",
            "Epoch 45/75\n",
            "20/20 [==============================] - 3s 142ms/step - loss: 5.5966e-04 - acc: 8.1900e-04 - val_loss: 5.3796e-04 - val_acc: 0.0016\n",
            "Epoch 46/75\n",
            "20/20 [==============================] - 2s 109ms/step - loss: 7.2050e-04 - acc: 8.1900e-04 - val_loss: 7.4181e-04 - val_acc: 0.0016\n",
            "Epoch 47/75\n",
            "20/20 [==============================] - 2s 109ms/step - loss: 5.6736e-04 - acc: 8.1900e-04 - val_loss: 4.3749e-04 - val_acc: 0.0016\n",
            "Epoch 48/75\n",
            "20/20 [==============================] - 2s 111ms/step - loss: 5.1687e-04 - acc: 8.1900e-04 - val_loss: 6.3627e-04 - val_acc: 0.0016\n",
            "Epoch 49/75\n",
            "20/20 [==============================] - 2s 109ms/step - loss: 5.2588e-04 - acc: 8.1900e-04 - val_loss: 5.9384e-04 - val_acc: 0.0016\n",
            "Epoch 50/75\n",
            "20/20 [==============================] - 3s 140ms/step - loss: 4.6259e-04 - acc: 8.1900e-04 - val_loss: 6.4015e-04 - val_acc: 0.0016\n",
            "Epoch 51/75\n",
            "20/20 [==============================] - 2s 109ms/step - loss: 4.9116e-04 - acc: 8.1900e-04 - val_loss: 4.4563e-04 - val_acc: 0.0016\n",
            "Epoch 52/75\n",
            "20/20 [==============================] - 2s 111ms/step - loss: 5.9592e-04 - acc: 8.1900e-04 - val_loss: 4.7239e-04 - val_acc: 0.0016\n",
            "Epoch 53/75\n",
            "20/20 [==============================] - 2s 109ms/step - loss: 4.5676e-04 - acc: 8.1900e-04 - val_loss: 4.2099e-04 - val_acc: 0.0016\n",
            "Epoch 54/75\n",
            "20/20 [==============================] - 2s 108ms/step - loss: 4.4384e-04 - acc: 8.1900e-04 - val_loss: 4.5247e-04 - val_acc: 0.0016\n",
            "Epoch 55/75\n",
            "20/20 [==============================] - 3s 142ms/step - loss: 5.4303e-04 - acc: 8.1900e-04 - val_loss: 4.2802e-04 - val_acc: 0.0016\n",
            "Epoch 56/75\n",
            "20/20 [==============================] - 2s 110ms/step - loss: 4.1920e-04 - acc: 8.1900e-04 - val_loss: 4.2792e-04 - val_acc: 0.0016\n",
            "Epoch 57/75\n",
            "20/20 [==============================] - 2s 109ms/step - loss: 4.3932e-04 - acc: 8.1900e-04 - val_loss: 5.9106e-04 - val_acc: 0.0016\n",
            "Epoch 58/75\n",
            "20/20 [==============================] - 2s 108ms/step - loss: 4.2545e-04 - acc: 8.1900e-04 - val_loss: 4.0591e-04 - val_acc: 0.0016\n",
            "Epoch 59/75\n",
            "20/20 [==============================] - 2s 110ms/step - loss: 4.2484e-04 - acc: 8.1900e-04 - val_loss: 3.7859e-04 - val_acc: 0.0016\n",
            "Epoch 60/75\n",
            "20/20 [==============================] - 3s 137ms/step - loss: 4.6577e-04 - acc: 8.1900e-04 - val_loss: 7.6588e-04 - val_acc: 0.0016\n",
            "Epoch 61/75\n",
            "20/20 [==============================] - 2s 109ms/step - loss: 4.7254e-04 - acc: 8.1900e-04 - val_loss: 3.3111e-04 - val_acc: 0.0016\n",
            "Epoch 62/75\n",
            "20/20 [==============================] - 2s 109ms/step - loss: 3.9325e-04 - acc: 8.1900e-04 - val_loss: 3.5762e-04 - val_acc: 0.0016\n",
            "Epoch 63/75\n",
            "20/20 [==============================] - 2s 109ms/step - loss: 3.4916e-04 - acc: 8.1900e-04 - val_loss: 3.6709e-04 - val_acc: 0.0016\n",
            "Epoch 64/75\n",
            "20/20 [==============================] - 2s 108ms/step - loss: 3.4775e-04 - acc: 8.1900e-04 - val_loss: 3.2514e-04 - val_acc: 0.0016\n",
            "Epoch 65/75\n",
            "20/20 [==============================] - 3s 129ms/step - loss: 4.7528e-04 - acc: 8.1900e-04 - val_loss: 4.8157e-04 - val_acc: 0.0016\n",
            "Epoch 66/75\n",
            "20/20 [==============================] - 2s 119ms/step - loss: 3.8329e-04 - acc: 8.1900e-04 - val_loss: 3.8561e-04 - val_acc: 0.0016\n",
            "Epoch 67/75\n",
            "20/20 [==============================] - 2s 108ms/step - loss: 4.4384e-04 - acc: 8.1900e-04 - val_loss: 2.8769e-04 - val_acc: 0.0016\n",
            "Epoch 68/75\n",
            "20/20 [==============================] - 2s 108ms/step - loss: 3.4502e-04 - acc: 8.1900e-04 - val_loss: 3.1610e-04 - val_acc: 0.0016\n",
            "Epoch 69/75\n",
            "20/20 [==============================] - 2s 109ms/step - loss: 3.2815e-04 - acc: 8.1900e-04 - val_loss: 3.3608e-04 - val_acc: 0.0016\n",
            "Epoch 70/75\n",
            "20/20 [==============================] - 2s 120ms/step - loss: 3.1215e-04 - acc: 8.1900e-04 - val_loss: 3.4596e-04 - val_acc: 0.0016\n",
            "Epoch 71/75\n",
            "20/20 [==============================] - 3s 128ms/step - loss: 3.4634e-04 - acc: 8.1900e-04 - val_loss: 2.6201e-04 - val_acc: 0.0016\n",
            "Epoch 72/75\n",
            "20/20 [==============================] - 2s 108ms/step - loss: 3.5594e-04 - acc: 8.1900e-04 - val_loss: 3.1267e-04 - val_acc: 0.0016\n",
            "Epoch 73/75\n",
            "20/20 [==============================] - 2s 109ms/step - loss: 3.5566e-04 - acc: 8.1900e-04 - val_loss: 2.8697e-04 - val_acc: 0.0016\n",
            "Epoch 74/75\n",
            "20/20 [==============================] - 2s 109ms/step - loss: 3.0742e-04 - acc: 8.1900e-04 - val_loss: 2.5590e-04 - val_acc: 0.0016\n",
            "Epoch 75/75\n",
            "20/20 [==============================] - 2s 110ms/step - loss: 2.8894e-04 - acc: 8.1900e-04 - val_loss: 2.7469e-04 - val_acc: 0.0016\n"
          ]
        },
        {
          "output_type": "execute_result",
          "data": {
            "text/plain": [
              "<keras.src.callbacks.History at 0x797daffed990>"
            ]
          },
          "metadata": {},
          "execution_count": 37
        }
      ]
    },
    {
      "cell_type": "code",
      "source": [
        "train_predict1=model.predict(x_train)\n",
        "test_predict1=model.predict(x_test)\n",
        "#Transformback to original form\n",
        "train_predict1=scaler.inverse_transform(train_predict1)\n",
        "test_predict1=scaler.inverse_transform(test_predict1)"
      ],
      "metadata": {
        "colab": {
          "base_uri": "https://localhost:8080/"
        },
        "id": "mQhdMJa0gb2L",
        "outputId": "f85e3e28-f054-4f08-8e62-42252e960df7"
      },
      "execution_count": null,
      "outputs": [
        {
          "output_type": "stream",
          "name": "stdout",
          "text": [
            "39/39 [==============================] - 2s 28ms/step\n",
            "20/20 [==============================] - 1s 27ms/step\n"
          ]
        }
      ]
    },
    {
      "cell_type": "code",
      "source": [
        "math.sqrt(mean_squared_error(y_train,train_predict1))"
      ],
      "metadata": {
        "colab": {
          "base_uri": "https://localhost:8080/"
        },
        "id": "TWbLdTVPghuI",
        "outputId": "9575f04f-2a26-4fdb-9ee1-f43db5d42468"
      },
      "execution_count": null,
      "outputs": [
        {
          "output_type": "execute_result",
          "data": {
            "text/plain": [
              "165.43801968468057"
            ]
          },
          "metadata": {},
          "execution_count": 39
        }
      ]
    },
    {
      "cell_type": "code",
      "source": [
        "math.sqrt(mean_squared_error(y_test,test_predict1))"
      ],
      "metadata": {
        "colab": {
          "base_uri": "https://localhost:8080/"
        },
        "id": "XannwcKmglpL",
        "outputId": "5c94bb84-a1e7-426e-b9f4-a2c7f56f87df"
      },
      "execution_count": null,
      "outputs": [
        {
          "output_type": "execute_result",
          "data": {
            "text/plain": [
              "116.08985609252791"
            ]
          },
          "metadata": {},
          "execution_count": 40
        }
      ]
    },
    {
      "cell_type": "code",
      "source": [
        "### Plotting\n",
        "# shift train predictions for plotting\n",
        "look_back=100\n",
        "trainPredictPlot = np.empty_like(training_set_scaler)\n",
        "trainPredictPlot[:, :] = np.nan\n",
        "trainPredictPlot[look_back:len(train_predict1)+look_back, :] = train_predict1\n",
        "\n",
        "# shift test predictions for plotting\n",
        "testPredictPlot = np.empty_like(training_set_scaler)\n",
        "testPredictPlot[:, :] = np.nan\n",
        "testPredictPlot[len(train_predict1)+(look_back*2)+1:len(df1)-1, :] = test_predict1\n",
        "\n",
        "# plot baseline and predictions\n",
        "plt.figure(figsize=(10,5))\n",
        "plt.plot(scaler.inverse_transform(training_set_scaler))\n",
        "plt.plot(trainPredictPlot)\n",
        "plt.plot(testPredictPlot)\n",
        "plt.show()\n"
      ],
      "metadata": {
        "colab": {
          "base_uri": "https://localhost:8080/",
          "height": 445
        },
        "id": "Yoi9ARF8gqWh",
        "outputId": "e6578eee-24ee-436e-d013-a40ee8ec3a0d"
      },
      "execution_count": null,
      "outputs": [
        {
          "output_type": "display_data",
          "data": {
            "text/plain": [
              "<Figure size 1000x500 with 1 Axes>"
            ],
            "image/png": "[encoded data removed]"
          },
          "metadata": {}
        }
      ]
    },
    {
      "cell_type": "code",
      "source": [],
      "metadata": {
        "id": "kz3OQdoOgu_e"
      },
      "execution_count": null,
      "outputs": []
    }
  ]
}